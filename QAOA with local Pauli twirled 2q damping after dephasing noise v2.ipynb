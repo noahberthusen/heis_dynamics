{
 "cells": [
  {
   "cell_type": "markdown",
   "metadata": {},
   "source": [
    "This tries to (at least partially) assess how many Pauli twirled version of the circuit we need for some fixed number of qubits (but larger than 3)."
   ]
  },
  {
   "cell_type": "markdown",
   "metadata": {},
   "source": [
    "This simulates 7 qubits."
   ]
  },
  {
   "cell_type": "code",
   "execution_count": 1,
   "metadata": {},
   "outputs": [],
   "source": [
    "%matplotlib inline\n",
    "import matplotlib.pyplot as plt\n",
    "\n",
    "from pyquil import Program\n",
    "from pyquil.api import WavefunctionSimulator\n",
    "from pyquil.gates import *\n",
    "from pyquil.paulis import *\n",
    "\n",
    "import numpy as np\n",
    "import itertools\n",
    "import functools\n",
    "\n",
    "from datetime import datetime\n",
    "from functools import reduce\n",
    "from tqdm import tqdm\n",
    "\n",
    "from collections import defaultdict\n",
    "\n",
    "import sys"
   ]
  },
  {
   "cell_type": "code",
   "execution_count": 2,
   "metadata": {},
   "outputs": [],
   "source": [
    "n_qubits = 7\n",
    "qubits = list(range(n_qubits))\n",
    "dim = 2**n_qubits"
   ]
  },
  {
   "cell_type": "code",
   "execution_count": 3,
   "metadata": {},
   "outputs": [
    {
     "name": "stdout",
     "output_type": "stream",
     "text": [
      "[(0, 1), (1, 2), (2, 3), (3, 4), (4, 5), (5, 6)]\n"
     ]
    }
   ],
   "source": [
    "graph = [(i, i+1) for i in range(n_qubits-1)]\n",
    "print(graph)"
   ]
  },
  {
   "cell_type": "markdown",
   "metadata": {},
   "source": [
    "### Gates"
   ]
  },
  {
   "cell_type": "markdown",
   "metadata": {},
   "source": [
    "Use the hand-compiled version for p=1"
   ]
  },
  {
   "cell_type": "code",
   "execution_count": 4,
   "metadata": {},
   "outputs": [],
   "source": [
    "h = (1/np.sqrt(2)) * np.array([[1, 1], [1, -1]])\n",
    "idty = np.eye(2)\n",
    "x = np.array([[0, 1], [1, 0]])\n",
    "y = np.array([[0, -1j], [1j, 0]])\n",
    "z = np.array([[1, 0], [0, -1]])\n",
    "p0 = np.array([[1, 0], [0, 0]])\n",
    "p1 = np.array([[0, 0], [0, 1]])\n",
    "\n",
    "def hadamard(q):\n",
    "    global n_qubits\n",
    "    mat_list = [idty]*(n_qubits-1-q) + [h] + [idty]*q\n",
    "    operator = reduce(np.kron, mat_list)\n",
    "    return operator\n",
    "\n",
    "def global_hadamards():\n",
    "    global n_qubits\n",
    "    mat_list = [h]*n_qubits\n",
    "    operator = reduce(np.kron, mat_list)\n",
    "    return operator\n",
    "\n",
    "def almost_global_rzs(gamma):\n",
    "    global n_qubits\n",
    "    rz = np.cos(gamma)*idty - 1j*np.sin(gamma)*z\n",
    "    mat_list = [rz]*(n_qubits-1) + [idty]\n",
    "    operator = reduce(np.kron, mat_list)\n",
    "    return operator\n",
    "\n",
    "def almost_global_hadamards():\n",
    "    global n_qubits\n",
    "    mat_list = [h]*(n_qubits-1) + [idty]\n",
    "    operator = reduce(np.kron, mat_list)\n",
    "    return operator\n",
    "\n",
    "def cz(qc, qt):\n",
    "    global n_qubits\n",
    "    qA = max([int(q) for q in [qc, qt]])\n",
    "    qB = min([int(q) for q in [qc, qt]])\n",
    "    if (qA==qc) and (qB==qt):\n",
    "        p0_part_mats = [idty]*(n_qubits-1-qA) + [p0] + [idty]*(qA-qB-1) + [idty] + [idty]*qB\n",
    "        p1_part_mats = [idty]*(n_qubits-1-qA) + [p1] + [idty]*(qA-qB-1) + [z] + [idty]*qB\n",
    "    elif (qA==qt) and (qB==qc):\n",
    "        p0_part_mats = [idty]*(n_qubits-1-qA) + [idty] + [idty]*(qA-qB-1) + [p0] + [idty]*qB\n",
    "        p1_part_mats = [idty]*(n_qubits-1-qA) + [z] + [idty]*(qA-qB-1) + [p1] + [idty]*qB\n",
    "    else:\n",
    "        raise ValueError(\"something went wrong\")\n",
    "    p0_part = reduce(np.kron, p0_part_mats)\n",
    "    p1_part = reduce(np.kron, p1_part_mats)\n",
    "    operator = p0_part + p1_part\n",
    "    return operator\n",
    "\n",
    "def mixer_term(beta):\n",
    "    global n_qubits\n",
    "    rx = np.cos(beta)*idty - 1j*np.sin(beta)*x\n",
    "    mat_list = [rx]*n_qubits\n",
    "    operator = reduce(np.kron, mat_list)\n",
    "    return operator\n",
    "\n",
    "def zz_term(q1, q2):\n",
    "    global n_qubits\n",
    "    qA = max([int(q) for q in [q1, q2]])\n",
    "    qB = min([int(q) for q in [q1, q2]])\n",
    "    zz_term_list = [idty]*(n_qubits-1-qA) + [z] + [idty]*(qA-qB-1) + [z] + [idty]*qB\n",
    "    zz_term = reduce(np.kron, zz_term_list)\n",
    "    return zz_term"
   ]
  },
  {
   "cell_type": "markdown",
   "metadata": {},
   "source": [
    "### Sanity check: Make sure we get same landscape"
   ]
  },
  {
   "cell_type": "markdown",
   "metadata": {},
   "source": [
    "First, with the wavefunction simulator"
   ]
  },
  {
   "cell_type": "code",
   "execution_count": 5,
   "metadata": {},
   "outputs": [
    {
     "name": "stderr",
     "output_type": "stream",
     "text": [
      "100%|██████████| 625/625 [00:07<00:00, 84.93it/s]\n"
     ]
    },
    {
     "data": {
      "image/png": "[encoded data removed]",
      "text/plain": [
       "<Figure size 432x288 with 2 Axes>"
      ]
     },
     "metadata": {
      "needs_background": "light"
     },
     "output_type": "display_data"
    }
   ],
   "source": [
    "hamiltonian = 0.0\n",
    "for (i,j) in graph:\n",
    "    hamiltonian += sZ(i)*sZ(j)\n",
    "    \n",
    "mixer = 0.0\n",
    "for q in qubits:\n",
    "    mixer += sX(q)\n",
    "    \n",
    "wfn_sim = WavefunctionSimulator()\n",
    "\n",
    "wfn_prog = Program()\n",
    "wfn_gamma = wfn_prog.declare('gamma', 'REAL', 1)\n",
    "wfn_beta = wfn_prog.declare('beta', 'REAL', 1)\n",
    "\n",
    "for q in qubits:\n",
    "    wfn_prog += H(q)\n",
    "for ham_term in hamiltonian:\n",
    "    wfn_prog += exponential_map(ham_term)(wfn_gamma)\n",
    "for mix_term in mixer:\n",
    "    wfn_prog += exponential_map(mix_term)(wfn_beta)\n",
    "    \n",
    "width = 25\n",
    "angle_range = np.linspace(0.0, np.pi, width)\n",
    "\n",
    "wfn_expectations = []\n",
    "\n",
    "for (gamma, beta) in tqdm(list(itertools.product(angle_range, angle_range))):\n",
    "    wfn_expect = wfn_sim.expectation(wfn_prog, hamiltonian, memory_map={'gamma': [gamma], 'beta': [beta]})\n",
    "    assert np.isclose(np.imag(wfn_expect), 0.0)\n",
    "    wfn_expectations.append(np.real(wfn_expect))\n",
    "    \n",
    "wfn_expectations = np.array(wfn_expectations).reshape(width, width)\n",
    "plt.imshow(wfn_expectations, extent=[0.0, np.pi, np.pi, 0.0])\n",
    "plt.colorbar()\n",
    "plt.xlabel('beta')\n",
    "plt.ylabel('gamma')\n",
    "plt.title('<H_C>')\n",
    "plt.show()"
   ]
  },
  {
   "cell_type": "markdown",
   "metadata": {},
   "source": [
    "Next, with our density matrix simulator"
   ]
  },
  {
   "cell_type": "code",
   "execution_count": 6,
   "metadata": {},
   "outputs": [
    {
     "name": "stderr",
     "output_type": "stream",
     "text": [
      "100%|██████████| 625/625 [00:11<00:00, 53.86it/s]\n"
     ]
    },
    {
     "name": "stdout",
     "output_type": "stream",
     "text": [
      "True\n"
     ]
    },
    {
     "data": {
      "image/png": "[encoded data removed]",
      "text/plain": [
       "<Figure size 432x288 with 2 Axes>"
      ]
     },
     "metadata": {
      "needs_background": "light"
     },
     "output_type": "display_data"
    }
   ],
   "source": [
    "Zexpectations = []\n",
    "\n",
    "for (gamma, beta) in tqdm(list(itertools.product(angle_range, angle_range))):\n",
    "\n",
    "    # initial state\n",
    "    p0_list = [p0]*n_qubits\n",
    "    rho = reduce(np.kron, p0_list)\n",
    "    \n",
    "    # initial hadamards\n",
    "    had_op = global_hadamards()\n",
    "    rho = had_op @ rho @ had_op.conj().T\n",
    "    \n",
    "    # almost global RZs\n",
    "    rz_op = almost_global_rzs(gamma)\n",
    "    rho = rz_op @ rho @ rz_op.conj().T\n",
    "    \n",
    "    # almost global hadamards\n",
    "    had_op2 = almost_global_hadamards()\n",
    "    rho = had_op2 @ rho @ had_op2.conj().T\n",
    "    \n",
    "    # CZ ladder\n",
    "    for idx, _ in enumerate(qubits[:-1]):\n",
    "\n",
    "        # CZ operation\n",
    "        cz_op = cz(qubits[idx], qubits[idx+1])\n",
    "        rho = cz_op @ rho @ cz_op.conj().T\n",
    "        \n",
    "        # post-CZ Hadamard operation\n",
    "        h_op = hadamard(qubits[idx+1])\n",
    "        rho = h_op @ rho @ h_op.conj().T\n",
    "        \n",
    "    # mixer term\n",
    "    mix_op = mixer_term(beta)\n",
    "    rho = mix_op @ rho @ mix_op.conj().T\n",
    "    \n",
    "    # calculate expectation value of H_C\n",
    "    Zexpect = 0.0\n",
    "    for idx, _ in enumerate(qubits[:-1]):\n",
    "        zzterm = zz_term(qubits[idx], qubits[idx+1])\n",
    "        Zexpect += np.trace(zzterm @ rho)\n",
    "        \n",
    "    assert np.isclose(np.imag(Zexpect), 0.0), f\"(gamma, beta): {(gamma, beta)}; Zexpect: {Zexpect}\"\n",
    "    Zexpectations.append(np.real(Zexpect))\n",
    "    \n",
    "Zexpectations = np.array(Zexpectations).reshape(width, width)\n",
    "print(np.allclose(Zexpectations, wfn_expectations))\n",
    "plt.imshow(Zexpectations, extent=[0.0, np.pi, np.pi, 0.0])\n",
    "plt.colorbar()\n",
    "plt.xlabel('beta')\n",
    "plt.ylabel('gamma')\n",
    "plt.title('<H_C>')\n",
    "plt.show()"
   ]
  },
  {
   "cell_type": "markdown",
   "metadata": {},
   "source": [
    "Now, make sure that Pauli twirling gives the same result as the ideal one in the absence of any noise."
   ]
  },
  {
   "cell_type": "code",
   "execution_count": 7,
   "metadata": {},
   "outputs": [],
   "source": [
    "def c(a, b):\n",
    "    return int(a + b*(3-b)*(3-2*a)/2)\n",
    "\n",
    "def d(a, b):\n",
    "    return int(b + a*(3-a)*(3-2*b)/2)\n",
    "\n",
    "def pauli_op(i, q):\n",
    "    global n_qubits\n",
    "    d_idx_op = {0: idty, 1: x, 2: y, 3: z}\n",
    "    mat_list = [idty]*(n_qubits-1-q) + [d_idx_op[i]] + [idty]*q\n",
    "    operator = reduce(np.kron, mat_list)\n",
    "    return operator"
   ]
  },
  {
   "cell_type": "code",
   "execution_count": 8,
   "metadata": {},
   "outputs": [
    {
     "name": "stdout",
     "output_type": "stream",
     "text": [
      "\r",
      "Working on experiment: 1"
     ]
    },
    {
     "name": "stderr",
     "output_type": "stream",
     "text": [
      "100%|██████████| 625/625 [00:23<00:00, 26.78it/s]"
     ]
    },
    {
     "name": "stdout",
     "output_type": "stream",
     "text": [
      "\r",
      "Working on experiment: 2"
     ]
    },
    {
     "name": "stderr",
     "output_type": "stream",
     "text": [
      "\n",
      "100%|██████████| 625/625 [00:23<00:00, 27.09it/s]"
     ]
    },
    {
     "name": "stdout",
     "output_type": "stream",
     "text": [
      "\r",
      "Working on experiment: 3"
     ]
    },
    {
     "name": "stderr",
     "output_type": "stream",
     "text": [
      "\n",
      "100%|██████████| 625/625 [00:22<00:00, 27.94it/s]"
     ]
    },
    {
     "name": "stdout",
     "output_type": "stream",
     "text": [
      "\r",
      "Working on experiment: 4"
     ]
    },
    {
     "name": "stderr",
     "output_type": "stream",
     "text": [
      "\n",
      "100%|██████████| 625/625 [00:23<00:00, 27.13it/s]"
     ]
    },
    {
     "name": "stdout",
     "output_type": "stream",
     "text": [
      "\r",
      "Working on experiment: 5"
     ]
    },
    {
     "name": "stderr",
     "output_type": "stream",
     "text": [
      "\n",
      "100%|██████████| 625/625 [00:21<00:00, 28.52it/s]\n"
     ]
    },
    {
     "name": "stdout",
     "output_type": "stream",
     "text": [
      "True\n"
     ]
    },
    {
     "data": {
      "image/png": "[encoded data removed]",
      "text/plain": [
       "<Figure size 432x288 with 2 Axes>"
      ]
     },
     "metadata": {
      "needs_background": "light"
     },
     "output_type": "display_data"
    }
   ],
   "source": [
    "## Several experiments\n",
    "\n",
    "n_expts = 5\n",
    "rand_idxs_expts = np.random.choice([0, 1, 2, 3], size=n_expts * (2*n_qubits - 2)).reshape(n_expts, -1)\n",
    "\n",
    "twirled_expectations = np.zeros((width, width))\n",
    "\n",
    "for count_expts, rand_idxs in enumerate(rand_idxs_expts):\n",
    "    \n",
    "    print(f\"\\rWorking on experiment: {count_expts+1}\", end=\"\")\n",
    "    sys.stdout.flush()\n",
    "    \n",
    "    expectations = []\n",
    "    \n",
    "    for (gamma, beta) in tqdm(list(itertools.product(angle_range, angle_range))):\n",
    "\n",
    "        # initial state\n",
    "        p0_list = [p0]*n_qubits\n",
    "        rho = reduce(np.kron, p0_list)\n",
    "\n",
    "        # initial hadamards\n",
    "        had_op = global_hadamards()\n",
    "        rho = had_op @ rho @ had_op.conj().T\n",
    "\n",
    "        # almost global RZs\n",
    "        rz_op = almost_global_rzs(gamma)\n",
    "        rho = rz_op @ rho @ rz_op.conj().T\n",
    "\n",
    "        # almost global hadamards\n",
    "        had_op2 = almost_global_hadamards()\n",
    "        rho = had_op2 @ rho @ had_op2.conj().T\n",
    "\n",
    "        # CZ ladder\n",
    "        for idx, _ in enumerate(qubits[:-1]):\n",
    "            \n",
    "            # identify twirling operators\n",
    "            A = rand_idxs[2*idx]\n",
    "            B = rand_idxs[2*idx+1]\n",
    "            C = c(A, B)\n",
    "            D = d(A, B)\n",
    "            pauli_A = pauli_op(A, qubits[idx])\n",
    "            pauli_B = pauli_op(B, qubits[idx+1])\n",
    "            pauli_C = pauli_op(C, qubits[idx])\n",
    "            pauli_D = pauli_op(D, qubits[idx+1])\n",
    "            \n",
    "            # insert pre-twirl here\n",
    "            pre_twirl = pauli_A @ pauli_B\n",
    "            rho = pre_twirl @ rho @ pre_twirl.conj().T\n",
    "\n",
    "            # CZ operation\n",
    "            cz_op = cz(qubits[idx], qubits[idx+1])\n",
    "            rho = cz_op @ rho @ cz_op.conj().T\n",
    "            \n",
    "            # insert post-twirl here\n",
    "            post_twirl = pauli_C @ pauli_D\n",
    "            rho = post_twirl @ rho @ post_twirl.conj().T\n",
    "\n",
    "            # post-CZ Hadamard operation\n",
    "            h_op = hadamard(qubits[idx+1])\n",
    "            rho = h_op @ rho @ h_op.conj().T\n",
    "\n",
    "        # mixer term\n",
    "        mix_op = mixer_term(beta)\n",
    "        rho = mix_op @ rho @ mix_op.conj().T\n",
    "\n",
    "        # calculate expectation value of H_C\n",
    "        Zexpect = 0.0\n",
    "        for idx, _ in enumerate(qubits[:-1]):\n",
    "            zzterm = zz_term(qubits[idx], qubits[idx+1])\n",
    "            Zexpect += np.trace(zzterm @ rho)\n",
    "\n",
    "        assert np.isclose(np.imag(Zexpect), 0.0), f\"(gamma, beta): {(gamma, beta)}; Zexpect: {Zexpect}\"\n",
    "        expectations.append(np.real(Zexpect))\n",
    "\n",
    "    expectations = np.array(expectations).reshape(width, width)\n",
    "    twirled_expectations += expectations\n",
    "    \n",
    "twirled_expectations /= n_expts\n",
    "print(np.allclose(twirled_expectations, wfn_expectations))\n",
    "plt.imshow(twirled_expectations, extent=[0.0, np.pi, np.pi, 0.0])\n",
    "plt.colorbar()\n",
    "plt.xlabel('beta')\n",
    "plt.ylabel('gamma')\n",
    "plt.title('<H_C>')\n",
    "plt.show()"
   ]
  },
  {
   "cell_type": "markdown",
   "metadata": {},
   "source": [
    "### Noise"
   ]
  },
  {
   "cell_type": "markdown",
   "metadata": {},
   "source": [
    "Now, we add some noise to distort the landscape"
   ]
  },
  {
   "cell_type": "code",
   "execution_count": 9,
   "metadata": {},
   "outputs": [],
   "source": [
    "def damping_after_dephasing(p, q):\n",
    "    K1damp = np.array([[1, 0], [0, np.sqrt(1-p)]])\n",
    "    K2damp = np.array([[0, np.sqrt(p)], [0, 0]])\n",
    "    K1deph = np.array([[np.sqrt(1-q), 0], [0, np.sqrt(1-q)]])\n",
    "    K2deph = np.array([[np.sqrt(q), 0], [0, -np.sqrt(q)]])\n",
    "    kraus_ops = [K1damp @ K1deph, K1damp @ K2deph,\n",
    "                 K2damp @ K1deph, K2damp @ K2deph]\n",
    "    return kraus_ops"
   ]
  },
  {
   "cell_type": "code",
   "execution_count": 10,
   "metadata": {},
   "outputs": [],
   "source": [
    "prob_damp = 0.4\n",
    "prob_deph = 0.4\n",
    "oneq_noise = damping_after_dephasing(prob_damp, prob_deph)\n",
    "twoq_noise = [np.kron(k1, k2) for k1 in oneq_noise for k2 in oneq_noise]"
   ]
  },
  {
   "cell_type": "code",
   "execution_count": 11,
   "metadata": {},
   "outputs": [
    {
     "name": "stderr",
     "output_type": "stream",
     "text": [
      "100%|██████████| 625/625 [01:04<00:00,  9.68it/s]\n"
     ]
    },
    {
     "data": {
      "image/png": "[encoded data removed]",
      "text/plain": [
       "<Figure size 432x288 with 2 Axes>"
      ]
     },
     "metadata": {
      "needs_background": "light"
     },
     "output_type": "display_data"
    }
   ],
   "source": [
    "Zexpectations_noisy = []\n",
    "\n",
    "for (gamma, beta) in tqdm(list(itertools.product(angle_range, angle_range))):\n",
    "\n",
    "    # initial state\n",
    "    p0_list = [p0]*n_qubits\n",
    "    rho = reduce(np.kron, p0_list)\n",
    "    \n",
    "    # initial hadamards\n",
    "    had_op = global_hadamards()\n",
    "    rho = had_op @ rho @ had_op.conj().T\n",
    "    \n",
    "    # almost global RZs\n",
    "    rz_op = almost_global_rzs(gamma)\n",
    "    rho = rz_op @ rho @ rz_op.conj().T\n",
    "    \n",
    "    # almost global hadamards\n",
    "    had_op2 = almost_global_hadamards()\n",
    "    rho = had_op2 @ rho @ had_op2.conj().T\n",
    "    \n",
    "    # CZ ladder\n",
    "    for idx, _ in enumerate(qubits[:-1]):\n",
    "\n",
    "        # CZ operation\n",
    "        cz_op = cz(qubits[idx], qubits[idx+1])\n",
    "        rho = cz_op @ rho @ cz_op.conj().T\n",
    "        \n",
    "        # CZ noise\n",
    "        rho_mod = np.zeros((dim, dim), dtype='complex128')\n",
    "        qA = qubits[idx]\n",
    "        noise_ops = [reduce(np.kron, [idty]*(n_qubits-2-qA) + [noise_op] + [idty]*qA) for noise_op in twoq_noise]\n",
    "        for K in noise_ops:\n",
    "            rho_mod += K @ rho @ K.conj().T\n",
    "        rho = rho_mod\n",
    "        \n",
    "        # post-CZ Hadamard operation\n",
    "        h_op = hadamard(qubits[idx+1])\n",
    "        rho = h_op @ rho @ h_op.conj().T\n",
    "        \n",
    "    # mixer term\n",
    "    mix_op = mixer_term(beta)\n",
    "    rho = mix_op @ rho @ mix_op.conj().T\n",
    "    \n",
    "    # calculate expectation value of H_C\n",
    "    Zexpect = 0.0\n",
    "    for idx, _ in enumerate(qubits[:-1]):\n",
    "        zzterm = zz_term(qubits[idx], qubits[idx+1])\n",
    "        Zexpect += np.trace(zzterm @ rho)\n",
    "        \n",
    "    assert np.isclose(np.imag(Zexpect), 0.0), f\"(gamma, beta): {(gamma, beta)}; Zexpect: {Zexpect}\"\n",
    "    Zexpectations_noisy.append(np.real(Zexpect))\n",
    "    \n",
    "Zexpectations_noisy = np.array(Zexpectations_noisy).reshape(width, width)\n",
    "plt.imshow(Zexpectations_noisy, extent=[0.0, np.pi, np.pi, 0.0])\n",
    "plt.colorbar()\n",
    "plt.xlabel('beta')\n",
    "plt.ylabel('gamma')\n",
    "plt.title('<H_C>')\n",
    "plt.show()"
   ]
  },
  {
   "cell_type": "markdown",
   "metadata": {},
   "source": [
    "Next, let's perform Pauli twirling in the presence of noise to turn the damping-after-dephasing channels into stochastic channels. First, we briefly comment out the parts that perform the twirling to make sure we get the same landscape as above."
   ]
  },
  {
   "cell_type": "code",
   "execution_count": 12,
   "metadata": {},
   "outputs": [
    {
     "name": "stdout",
     "output_type": "stream",
     "text": [
      "\r",
      "Working on experiment: 1"
     ]
    },
    {
     "name": "stderr",
     "output_type": "stream",
     "text": [
      "100%|██████████| 625/625 [01:01<00:00, 10.08it/s]"
     ]
    },
    {
     "name": "stdout",
     "output_type": "stream",
     "text": [
      "\r",
      "Working on experiment: 2"
     ]
    },
    {
     "name": "stderr",
     "output_type": "stream",
     "text": [
      "\n",
      "100%|██████████| 625/625 [01:05<00:00,  9.59it/s]"
     ]
    },
    {
     "name": "stdout",
     "output_type": "stream",
     "text": [
      "\r",
      "Working on experiment: 3"
     ]
    },
    {
     "name": "stderr",
     "output_type": "stream",
     "text": [
      "\n",
      "100%|██████████| 625/625 [01:07<00:00,  9.26it/s]"
     ]
    },
    {
     "name": "stdout",
     "output_type": "stream",
     "text": [
      "\r",
      "Working on experiment: 4"
     ]
    },
    {
     "name": "stderr",
     "output_type": "stream",
     "text": [
      "\n",
      "100%|██████████| 625/625 [01:07<00:00,  9.21it/s]"
     ]
    },
    {
     "name": "stdout",
     "output_type": "stream",
     "text": [
      "\r",
      "Working on experiment: 5"
     ]
    },
    {
     "name": "stderr",
     "output_type": "stream",
     "text": [
      "\n",
      "100%|██████████| 625/625 [01:07<00:00,  9.20it/s]\n"
     ]
    },
    {
     "data": {
      "image/png": "[encoded data removed]",
      "text/plain": [
       "<Figure size 432x288 with 2 Axes>"
      ]
     },
     "metadata": {
      "needs_background": "light"
     },
     "output_type": "display_data"
    }
   ],
   "source": [
    "## Several experiments\n",
    "\n",
    "n_expts = 5\n",
    "rand_idxs_expts = np.random.choice([0, 1, 2, 3], size=n_expts * (2*n_qubits - 2)).reshape(n_expts, -1)\n",
    "\n",
    "twirled_noisy_expectations = np.zeros((width, width))\n",
    "\n",
    "for count_expts, rand_idxs in enumerate(rand_idxs_expts):\n",
    "    \n",
    "    print(f\"\\rWorking on experiment: {count_expts+1}\", end=\"\")\n",
    "    sys.stdout.flush()\n",
    "    \n",
    "    expectations = []\n",
    "    \n",
    "    for (gamma, beta) in tqdm(list(itertools.product(angle_range, angle_range))):\n",
    "\n",
    "        # initial state\n",
    "        p0_list = [p0]*n_qubits\n",
    "        rho = reduce(np.kron, p0_list)\n",
    "\n",
    "        # initial hadamards\n",
    "        had_op = global_hadamards()\n",
    "        rho = had_op @ rho @ had_op.conj().T\n",
    "\n",
    "        # almost global RZs\n",
    "        rz_op = almost_global_rzs(gamma)\n",
    "        rho = rz_op @ rho @ rz_op.conj().T\n",
    "\n",
    "        # almost global hadamards\n",
    "        had_op2 = almost_global_hadamards()\n",
    "        rho = had_op2 @ rho @ had_op2.conj().T\n",
    "\n",
    "        # CZ ladder\n",
    "        for idx, _ in enumerate(qubits[:-1]):\n",
    "            \n",
    "            # identify twirling operators\n",
    "            A = rand_idxs[2*idx]\n",
    "            B = rand_idxs[2*idx+1]\n",
    "            C = c(A, B)\n",
    "            D = d(A, B)\n",
    "            pauli_A = pauli_op(A, qubits[idx])\n",
    "            pauli_B = pauli_op(B, qubits[idx+1])\n",
    "            pauli_C = pauli_op(C, qubits[idx])\n",
    "            pauli_D = pauli_op(D, qubits[idx+1])\n",
    "            \n",
    "#             # insert pre-twirl here\n",
    "#             pre_twirl = pauli_A @ pauli_B\n",
    "#             rho = pre_twirl @ rho @ pre_twirl.conj().T\n",
    "\n",
    "            # CZ operation\n",
    "            cz_op = cz(qubits[idx], qubits[idx+1])\n",
    "            rho = cz_op @ rho @ cz_op.conj().T\n",
    "            \n",
    "            # CZ noise\n",
    "            rho_mod = np.zeros((dim, dim), dtype='complex128')\n",
    "            qA = qubits[idx]\n",
    "            noise_ops = [reduce(np.kron, [idty]*(n_qubits-2-qA) + [noise_op] + [idty]*qA) for noise_op in twoq_noise]\n",
    "            for K in noise_ops:\n",
    "                rho_mod += K @ rho @ K.conj().T\n",
    "            rho = rho_mod\n",
    "            \n",
    "#             # insert post-twirl here\n",
    "#             post_twirl = pauli_C @ pauli_D\n",
    "#             rho = post_twirl @ rho @ post_twirl.conj().T\n",
    "\n",
    "            # post-CZ Hadamard operation\n",
    "            h_op = hadamard(qubits[idx+1])\n",
    "            rho = h_op @ rho @ h_op.conj().T\n",
    "\n",
    "        # mixer term\n",
    "        mix_op = mixer_term(beta)\n",
    "        rho = mix_op @ rho @ mix_op.conj().T\n",
    "\n",
    "        # calculate expectation value of H_C\n",
    "        Zexpect = 0.0\n",
    "        for idx, _ in enumerate(qubits[:-1]):\n",
    "            zzterm = zz_term(qubits[idx], qubits[idx+1])\n",
    "            Zexpect += np.trace(zzterm @ rho)\n",
    "\n",
    "        assert np.isclose(np.imag(Zexpect), 0.0), f\"(gamma, beta): {(gamma, beta)}; Zexpect: {Zexpect}\"\n",
    "        expectations.append(np.real(Zexpect))\n",
    "\n",
    "    expectations = np.array(expectations).reshape(width, width)\n",
    "    twirled_noisy_expectations += expectations\n",
    "    \n",
    "twirled_noisy_expectations /= n_expts\n",
    "# print(np.allclose(twirled_expectations, wfn_expectations))\n",
    "plt.imshow(twirled_noisy_expectations, extent=[0.0, np.pi, np.pi, 0.0])\n",
    "plt.colorbar()\n",
    "plt.xlabel('beta')\n",
    "plt.ylabel('gamma')\n",
    "plt.title('<H_C>')\n",
    "plt.show()"
   ]
  },
  {
   "cell_type": "markdown",
   "metadata": {},
   "source": [
    "Now, we add in the twirling operations."
   ]
  },
  {
   "cell_type": "code",
   "execution_count": 13,
   "metadata": {
    "scrolled": false
   },
   "outputs": [
    {
     "name": "stdout",
     "output_type": "stream",
     "text": [
      "\r",
      "Working on experiment: 1"
     ]
    },
    {
     "name": "stderr",
     "output_type": "stream",
     "text": [
      "100%|██████████| 625/625 [01:11<00:00,  8.70it/s]"
     ]
    },
    {
     "name": "stdout",
     "output_type": "stream",
     "text": [
      "\r",
      "Working on experiment: 2"
     ]
    },
    {
     "name": "stderr",
     "output_type": "stream",
     "text": [
      "\n",
      "100%|██████████| 625/625 [01:11<00:00,  8.76it/s]"
     ]
    },
    {
     "name": "stdout",
     "output_type": "stream",
     "text": [
      "\r",
      "Working on experiment: 3"
     ]
    },
    {
     "name": "stderr",
     "output_type": "stream",
     "text": [
      "\n",
      "100%|██████████| 625/625 [01:11<00:00,  8.69it/s]"
     ]
    },
    {
     "name": "stdout",
     "output_type": "stream",
     "text": [
      "\r",
      "Working on experiment: 4"
     ]
    },
    {
     "name": "stderr",
     "output_type": "stream",
     "text": [
      "\n",
      "100%|██████████| 625/625 [01:11<00:00,  8.70it/s]"
     ]
    },
    {
     "name": "stdout",
     "output_type": "stream",
     "text": [
      "\r",
      "Working on experiment: 5"
     ]
    },
    {
     "name": "stderr",
     "output_type": "stream",
     "text": [
      "\n",
      "100%|██████████| 625/625 [01:12<00:00,  8.67it/s]"
     ]
    },
    {
     "name": "stdout",
     "output_type": "stream",
     "text": [
      "\r",
      "Working on experiment: 6"
     ]
    },
    {
     "name": "stderr",
     "output_type": "stream",
     "text": [
      "\n",
      "100%|██████████| 625/625 [01:14<00:00,  8.39it/s]"
     ]
    },
    {
     "name": "stdout",
     "output_type": "stream",
     "text": [
      "\r",
      "Working on experiment: 7"
     ]
    },
    {
     "name": "stderr",
     "output_type": "stream",
     "text": [
      "\n",
      "100%|██████████| 625/625 [01:13<00:00,  8.52it/s]"
     ]
    },
    {
     "name": "stdout",
     "output_type": "stream",
     "text": [
      "\r",
      "Working on experiment: 8"
     ]
    },
    {
     "name": "stderr",
     "output_type": "stream",
     "text": [
      "\n",
      "100%|██████████| 625/625 [01:13<00:00,  8.53it/s]"
     ]
    },
    {
     "name": "stdout",
     "output_type": "stream",
     "text": [
      "\r",
      "Working on experiment: 9"
     ]
    },
    {
     "name": "stderr",
     "output_type": "stream",
     "text": [
      "\n",
      "100%|██████████| 625/625 [01:14<00:00,  8.38it/s]"
     ]
    },
    {
     "name": "stdout",
     "output_type": "stream",
     "text": [
      "\r",
      "Working on experiment: 10"
     ]
    },
    {
     "name": "stderr",
     "output_type": "stream",
     "text": [
      "\n",
      "100%|██████████| 625/625 [01:13<00:00,  8.52it/s]"
     ]
    },
    {
     "name": "stdout",
     "output_type": "stream",
     "text": [
      "\r",
      "Working on experiment: 11"
     ]
    },
    {
     "name": "stderr",
     "output_type": "stream",
     "text": [
      "\n",
      "100%|██████████| 625/625 [01:13<00:00,  8.45it/s]"
     ]
    },
    {
     "name": "stdout",
     "output_type": "stream",
     "text": [
      "\r",
      "Working on experiment: 12"
     ]
    },
    {
     "name": "stderr",
     "output_type": "stream",
     "text": [
      "\n",
      "100%|██████████| 625/625 [01:14<00:00,  8.41it/s]"
     ]
    },
    {
     "name": "stdout",
     "output_type": "stream",
     "text": [
      "\r",
      "Working on experiment: 13"
     ]
    },
    {
     "name": "stderr",
     "output_type": "stream",
     "text": [
      "\n",
      "100%|██████████| 625/625 [01:13<00:00,  8.45it/s]"
     ]
    },
    {
     "name": "stdout",
     "output_type": "stream",
     "text": [
      "\r",
      "Working on experiment: 14"
     ]
    },
    {
     "name": "stderr",
     "output_type": "stream",
     "text": [
      "\n",
      "100%|██████████| 625/625 [01:14<00:00,  8.43it/s]"
     ]
    },
    {
     "name": "stdout",
     "output_type": "stream",
     "text": [
      "\r",
      "Working on experiment: 15"
     ]
    },
    {
     "name": "stderr",
     "output_type": "stream",
     "text": [
      "\n",
      "100%|██████████| 625/625 [01:13<00:00,  8.47it/s]"
     ]
    },
    {
     "name": "stdout",
     "output_type": "stream",
     "text": [
      "\r",
      "Working on experiment: 16"
     ]
    },
    {
     "name": "stderr",
     "output_type": "stream",
     "text": [
      "\n",
      "100%|██████████| 625/625 [01:14<00:00,  8.43it/s]"
     ]
    },
    {
     "name": "stdout",
     "output_type": "stream",
     "text": [
      "\r",
      "Working on experiment: 17"
     ]
    },
    {
     "name": "stderr",
     "output_type": "stream",
     "text": [
      "\n",
      "100%|██████████| 625/625 [01:13<00:00,  8.46it/s]"
     ]
    },
    {
     "name": "stdout",
     "output_type": "stream",
     "text": [
      "\r",
      "Working on experiment: 18"
     ]
    },
    {
     "name": "stderr",
     "output_type": "stream",
     "text": [
      "\n",
      "100%|██████████| 625/625 [01:13<00:00,  8.48it/s]"
     ]
    },
    {
     "name": "stdout",
     "output_type": "stream",
     "text": [
      "\r",
      "Working on experiment: 19"
     ]
    },
    {
     "name": "stderr",
     "output_type": "stream",
     "text": [
      "\n",
      "100%|██████████| 625/625 [01:13<00:00,  8.56it/s]"
     ]
    },
    {
     "name": "stdout",
     "output_type": "stream",
     "text": [
      "\r",
      "Working on experiment: 20"
     ]
    },
    {
     "name": "stderr",
     "output_type": "stream",
     "text": [
      "\n",
      "100%|██████████| 625/625 [01:13<00:00,  8.55it/s]"
     ]
    },
    {
     "name": "stdout",
     "output_type": "stream",
     "text": [
      "\r",
      "Working on experiment: 21"
     ]
    },
    {
     "name": "stderr",
     "output_type": "stream",
     "text": [
      "\n",
      "100%|██████████| 625/625 [01:13<00:00,  8.55it/s]"
     ]
    },
    {
     "name": "stdout",
     "output_type": "stream",
     "text": [
      "\r",
      "Working on experiment: 22"
     ]
    },
    {
     "name": "stderr",
     "output_type": "stream",
     "text": [
      "\n",
      "100%|██████████| 625/625 [01:13<00:00,  8.53it/s]"
     ]
    },
    {
     "name": "stdout",
     "output_type": "stream",
     "text": [
      "\r",
      "Working on experiment: 23"
     ]
    },
    {
     "name": "stderr",
     "output_type": "stream",
     "text": [
      "\n",
      "100%|██████████| 625/625 [01:13<00:00,  8.50it/s]"
     ]
    },
    {
     "name": "stdout",
     "output_type": "stream",
     "text": [
      "\r",
      "Working on experiment: 24"
     ]
    },
    {
     "name": "stderr",
     "output_type": "stream",
     "text": [
      "\n",
      "100%|██████████| 625/625 [01:13<00:00,  8.49it/s]"
     ]
    },
    {
     "name": "stdout",
     "output_type": "stream",
     "text": [
      "\r",
      "Working on experiment: 25"
     ]
    },
    {
     "name": "stderr",
     "output_type": "stream",
     "text": [
      "\n",
      "100%|██████████| 625/625 [01:13<00:00,  8.53it/s]"
     ]
    },
    {
     "name": "stdout",
     "output_type": "stream",
     "text": [
      "\r",
      "Working on experiment: 26"
     ]
    },
    {
     "name": "stderr",
     "output_type": "stream",
     "text": [
      "\n",
      "100%|██████████| 625/625 [01:13<00:00,  8.45it/s]"
     ]
    },
    {
     "name": "stdout",
     "output_type": "stream",
     "text": [
      "\r",
      "Working on experiment: 27"
     ]
    },
    {
     "name": "stderr",
     "output_type": "stream",
     "text": [
      "\n",
      "100%|██████████| 625/625 [01:14<00:00,  8.38it/s]"
     ]
    },
    {
     "name": "stdout",
     "output_type": "stream",
     "text": [
      "\r",
      "Working on experiment: 28"
     ]
    },
    {
     "name": "stderr",
     "output_type": "stream",
     "text": [
      "\n",
      "100%|██████████| 625/625 [01:13<00:00,  8.54it/s]"
     ]
    },
    {
     "name": "stdout",
     "output_type": "stream",
     "text": [
      "\r",
      "Working on experiment: 29"
     ]
    },
    {
     "name": "stderr",
     "output_type": "stream",
     "text": [
      "\n",
      "100%|██████████| 625/625 [01:13<00:00,  8.52it/s]"
     ]
    },
    {
     "name": "stdout",
     "output_type": "stream",
     "text": [
      "\r",
      "Working on experiment: 30"
     ]
    },
    {
     "name": "stderr",
     "output_type": "stream",
     "text": [
      "\n",
      "100%|██████████| 625/625 [01:13<00:00,  8.52it/s]"
     ]
    },
    {
     "name": "stdout",
     "output_type": "stream",
     "text": [
      "\r",
      "Working on experiment: 31"
     ]
    },
    {
     "name": "stderr",
     "output_type": "stream",
     "text": [
      "\n",
      "100%|██████████| 625/625 [01:13<00:00,  8.52it/s]"
     ]
    },
    {
     "name": "stdout",
     "output_type": "stream",
     "text": [
      "\r",
      "Working on experiment: 32"
     ]
    },
    {
     "name": "stderr",
     "output_type": "stream",
     "text": [
      "\n",
      "100%|██████████| 625/625 [01:13<00:00,  8.54it/s]"
     ]
    },
    {
     "name": "stdout",
     "output_type": "stream",
     "text": [
      "\r",
      "Working on experiment: 33"
     ]
    },
    {
     "name": "stderr",
     "output_type": "stream",
     "text": [
      "\n",
      "100%|██████████| 625/625 [01:13<00:00,  8.47it/s]"
     ]
    },
    {
     "name": "stdout",
     "output_type": "stream",
     "text": [
      "\r",
      "Working on experiment: 34"
     ]
    },
    {
     "name": "stderr",
     "output_type": "stream",
     "text": [
      "\n",
      "100%|██████████| 625/625 [01:13<00:00,  8.50it/s]"
     ]
    },
    {
     "name": "stdout",
     "output_type": "stream",
     "text": [
      "\r",
      "Working on experiment: 35"
     ]
    },
    {
     "name": "stderr",
     "output_type": "stream",
     "text": [
      "\n",
      "100%|██████████| 625/625 [01:13<00:00,  8.48it/s]"
     ]
    },
    {
     "name": "stdout",
     "output_type": "stream",
     "text": [
      "\r",
      "Working on experiment: 36"
     ]
    },
    {
     "name": "stderr",
     "output_type": "stream",
     "text": [
      "\n",
      "100%|██████████| 625/625 [01:13<00:00,  8.53it/s]"
     ]
    },
    {
     "name": "stdout",
     "output_type": "stream",
     "text": [
      "\r",
      "Working on experiment: 37"
     ]
    },
    {
     "name": "stderr",
     "output_type": "stream",
     "text": [
      "\n",
      "100%|██████████| 625/625 [01:13<00:00,  8.54it/s]"
     ]
    },
    {
     "name": "stdout",
     "output_type": "stream",
     "text": [
      "\r",
      "Working on experiment: 38"
     ]
    },
    {
     "name": "stderr",
     "output_type": "stream",
     "text": [
      "\n",
      "100%|██████████| 625/625 [01:12<00:00,  8.58it/s]"
     ]
    },
    {
     "name": "stdout",
     "output_type": "stream",
     "text": [
      "\r",
      "Working on experiment: 39"
     ]
    },
    {
     "name": "stderr",
     "output_type": "stream",
     "text": [
      "\n",
      "100%|██████████| 625/625 [01:13<00:00,  8.52it/s]"
     ]
    },
    {
     "name": "stdout",
     "output_type": "stream",
     "text": [
      "\r",
      "Working on experiment: 40"
     ]
    },
    {
     "name": "stderr",
     "output_type": "stream",
     "text": [
      "\n",
      "100%|██████████| 625/625 [01:13<00:00,  8.54it/s]\n"
     ]
    },
    {
     "data": {
      "image/png": "[encoded data removed]",
      "text/plain": [
       "<Figure size 432x288 with 2 Axes>"
      ]
     },
     "metadata": {
      "needs_background": "light"
     },
     "output_type": "display_data"
    }
   ],
   "source": [
    "## Several experiments\n",
    "\n",
    "n_expts = 40\n",
    "rand_idxs_expts = np.random.choice([0, 1, 2, 3], size=n_expts * (2*n_qubits - 2)).reshape(n_expts, -1)\n",
    "\n",
    "twirled_noisy_expectations = np.zeros((width, width))\n",
    "\n",
    "for count_expts, rand_idxs in enumerate(rand_idxs_expts):\n",
    "    \n",
    "    print(f\"\\rWorking on experiment: {count_expts+1}\", end=\"\")\n",
    "    sys.stdout.flush()\n",
    "    \n",
    "    expectations = []\n",
    "    \n",
    "    for (gamma, beta) in tqdm(list(itertools.product(angle_range, angle_range))):\n",
    "\n",
    "        # initial state\n",
    "        p0_list = [p0]*n_qubits\n",
    "        rho = reduce(np.kron, p0_list)\n",
    "\n",
    "        # initial hadamards\n",
    "        had_op = global_hadamards()\n",
    "        rho = had_op @ rho @ had_op.conj().T\n",
    "\n",
    "        # almost global RZs\n",
    "        rz_op = almost_global_rzs(gamma)\n",
    "        rho = rz_op @ rho @ rz_op.conj().T\n",
    "\n",
    "        # almost global hadamards\n",
    "        had_op2 = almost_global_hadamards()\n",
    "        rho = had_op2 @ rho @ had_op2.conj().T\n",
    "\n",
    "        # CZ ladder\n",
    "        for idx, _ in enumerate(qubits[:-1]):\n",
    "            \n",
    "            # identify twirling operators\n",
    "            A = rand_idxs[2*idx]\n",
    "            B = rand_idxs[2*idx+1]\n",
    "            C = c(A, B)\n",
    "            D = d(A, B)\n",
    "            pauli_A = pauli_op(A, qubits[idx])\n",
    "            pauli_B = pauli_op(B, qubits[idx+1])\n",
    "            pauli_C = pauli_op(C, qubits[idx])\n",
    "            pauli_D = pauli_op(D, qubits[idx+1])\n",
    "            \n",
    "            # insert pre-twirl here\n",
    "            pre_twirl = pauli_A @ pauli_B\n",
    "            rho = pre_twirl @ rho @ pre_twirl.conj().T\n",
    "\n",
    "            # CZ operation\n",
    "            cz_op = cz(qubits[idx], qubits[idx+1])\n",
    "            rho = cz_op @ rho @ cz_op.conj().T\n",
    "            \n",
    "            # CZ noise\n",
    "            rho_mod = np.zeros((dim, dim), dtype='complex128')\n",
    "            qA = qubits[idx]\n",
    "            noise_ops = [reduce(np.kron, [idty]*(n_qubits-2-qA) + [noise_op] + [idty]*qA) for noise_op in twoq_noise]\n",
    "            for K in noise_ops:\n",
    "                rho_mod += K @ rho @ K.conj().T\n",
    "            rho = rho_mod\n",
    "            \n",
    "            # insert post-twirl here\n",
    "            post_twirl = pauli_C @ pauli_D\n",
    "            rho = post_twirl @ rho @ post_twirl.conj().T\n",
    "\n",
    "            # post-CZ Hadamard operation\n",
    "            h_op = hadamard(qubits[idx+1])\n",
    "            rho = h_op @ rho @ h_op.conj().T\n",
    "\n",
    "        # mixer term\n",
    "        mix_op = mixer_term(beta)\n",
    "        rho = mix_op @ rho @ mix_op.conj().T\n",
    "\n",
    "        # calculate expectation value of H_C\n",
    "        Zexpect = 0.0\n",
    "        for idx, _ in enumerate(qubits[:-1]):\n",
    "            zzterm = zz_term(qubits[idx], qubits[idx+1])\n",
    "            Zexpect += np.trace(zzterm @ rho)\n",
    "\n",
    "        assert np.isclose(np.imag(Zexpect), 0.0), f\"(gamma, beta): {(gamma, beta)}; Zexpect: {Zexpect}\"\n",
    "        expectations.append(np.real(Zexpect))\n",
    "\n",
    "    expectations = np.array(expectations).reshape(width, width)\n",
    "    twirled_noisy_expectations += expectations\n",
    "    \n",
    "twirled_noisy_expectations /= n_expts\n",
    "# print(np.allclose(twirled_expectations, wfn_expectations))\n",
    "plt.imshow(twirled_noisy_expectations, extent=[0.0, np.pi, np.pi, 0.0])\n",
    "plt.colorbar()\n",
    "plt.xlabel('beta')\n",
    "plt.ylabel('gamma')\n",
    "plt.title('<H_C>')\n",
    "plt.show()"
   ]
  },
  {
   "cell_type": "markdown",
   "metadata": {},
   "source": [
    "#### 20 expts"
   ]
  },
  {
   "cell_type": "code",
   "execution_count": 14,
   "metadata": {
    "scrolled": true
   },
   "outputs": [
    {
     "name": "stdout",
     "output_type": "stream",
     "text": [
      "\r",
      "Working on experiment: 1"
     ]
    },
    {
     "name": "stderr",
     "output_type": "stream",
     "text": [
      "100%|██████████| 625/625 [01:11<00:00,  8.76it/s]"
     ]
    },
    {
     "name": "stdout",
     "output_type": "stream",
     "text": [
      "\r",
      "Working on experiment: 2"
     ]
    },
    {
     "name": "stderr",
     "output_type": "stream",
     "text": [
      "\n",
      "100%|██████████| 625/625 [01:13<00:00,  8.48it/s]"
     ]
    },
    {
     "name": "stdout",
     "output_type": "stream",
     "text": [
      "\r",
      "Working on experiment: 3"
     ]
    },
    {
     "name": "stderr",
     "output_type": "stream",
     "text": [
      "\n",
      "100%|██████████| 625/625 [01:13<00:00,  8.49it/s]"
     ]
    },
    {
     "name": "stdout",
     "output_type": "stream",
     "text": [
      "\r",
      "Working on experiment: 4"
     ]
    },
    {
     "name": "stderr",
     "output_type": "stream",
     "text": [
      "\n",
      "100%|██████████| 625/625 [01:13<00:00,  8.46it/s]"
     ]
    },
    {
     "name": "stdout",
     "output_type": "stream",
     "text": [
      "\r",
      "Working on experiment: 5"
     ]
    },
    {
     "name": "stderr",
     "output_type": "stream",
     "text": [
      "\n",
      "100%|██████████| 625/625 [01:13<00:00,  8.50it/s]"
     ]
    },
    {
     "name": "stdout",
     "output_type": "stream",
     "text": [
      "\r",
      "Working on experiment: 6"
     ]
    },
    {
     "name": "stderr",
     "output_type": "stream",
     "text": [
      "\n",
      "100%|██████████| 625/625 [01:13<00:00,  8.48it/s]"
     ]
    },
    {
     "name": "stdout",
     "output_type": "stream",
     "text": [
      "\r",
      "Working on experiment: 7"
     ]
    },
    {
     "name": "stderr",
     "output_type": "stream",
     "text": [
      "\n",
      "100%|██████████| 625/625 [01:12<00:00,  8.57it/s]"
     ]
    },
    {
     "name": "stdout",
     "output_type": "stream",
     "text": [
      "\r",
      "Working on experiment: 8"
     ]
    },
    {
     "name": "stderr",
     "output_type": "stream",
     "text": [
      "\n",
      "100%|██████████| 625/625 [01:13<00:00,  8.46it/s]"
     ]
    },
    {
     "name": "stdout",
     "output_type": "stream",
     "text": [
      "\r",
      "Working on experiment: 9"
     ]
    },
    {
     "name": "stderr",
     "output_type": "stream",
     "text": [
      "\n",
      "100%|██████████| 625/625 [01:12<00:00,  8.58it/s]"
     ]
    },
    {
     "name": "stdout",
     "output_type": "stream",
     "text": [
      "\r",
      "Working on experiment: 10"
     ]
    },
    {
     "name": "stderr",
     "output_type": "stream",
     "text": [
      "\n",
      "100%|██████████| 625/625 [01:12<00:00,  8.58it/s]"
     ]
    },
    {
     "name": "stdout",
     "output_type": "stream",
     "text": [
      "\r",
      "Working on experiment: 11"
     ]
    },
    {
     "name": "stderr",
     "output_type": "stream",
     "text": [
      "\n",
      "100%|██████████| 625/625 [01:12<00:00,  8.58it/s]"
     ]
    },
    {
     "name": "stdout",
     "output_type": "stream",
     "text": [
      "\r",
      "Working on experiment: 12"
     ]
    },
    {
     "name": "stderr",
     "output_type": "stream",
     "text": [
      "\n",
      "100%|██████████| 625/625 [01:12<00:00,  8.60it/s]"
     ]
    },
    {
     "name": "stdout",
     "output_type": "stream",
     "text": [
      "\r",
      "Working on experiment: 13"
     ]
    },
    {
     "name": "stderr",
     "output_type": "stream",
     "text": [
      "\n",
      "100%|██████████| 625/625 [01:12<00:00,  8.57it/s]"
     ]
    },
    {
     "name": "stdout",
     "output_type": "stream",
     "text": [
      "\r",
      "Working on experiment: 14"
     ]
    },
    {
     "name": "stderr",
     "output_type": "stream",
     "text": [
      "\n",
      "100%|██████████| 625/625 [01:13<00:00,  8.54it/s]"
     ]
    },
    {
     "name": "stdout",
     "output_type": "stream",
     "text": [
      "\r",
      "Working on experiment: 15"
     ]
    },
    {
     "name": "stderr",
     "output_type": "stream",
     "text": [
      "\n",
      "100%|██████████| 625/625 [01:13<00:00,  8.54it/s]"
     ]
    },
    {
     "name": "stdout",
     "output_type": "stream",
     "text": [
      "\r",
      "Working on experiment: 16"
     ]
    },
    {
     "name": "stderr",
     "output_type": "stream",
     "text": [
      "\n",
      "100%|██████████| 625/625 [01:12<00:00,  8.59it/s]"
     ]
    },
    {
     "name": "stdout",
     "output_type": "stream",
     "text": [
      "\r",
      "Working on experiment: 17"
     ]
    },
    {
     "name": "stderr",
     "output_type": "stream",
     "text": [
      "\n",
      "100%|██████████| 625/625 [01:13<00:00,  8.53it/s]"
     ]
    },
    {
     "name": "stdout",
     "output_type": "stream",
     "text": [
      "\r",
      "Working on experiment: 18"
     ]
    },
    {
     "name": "stderr",
     "output_type": "stream",
     "text": [
      "\n",
      "100%|██████████| 625/625 [01:14<00:00,  8.40it/s]"
     ]
    },
    {
     "name": "stdout",
     "output_type": "stream",
     "text": [
      "\r",
      "Working on experiment: 19"
     ]
    },
    {
     "name": "stderr",
     "output_type": "stream",
     "text": [
      "\n",
      "100%|██████████| 625/625 [01:14<00:00,  8.42it/s]"
     ]
    },
    {
     "name": "stdout",
     "output_type": "stream",
     "text": [
      "\r",
      "Working on experiment: 20"
     ]
    },
    {
     "name": "stderr",
     "output_type": "stream",
     "text": [
      "\n",
      "100%|██████████| 625/625 [01:14<00:00,  8.41it/s]\n"
     ]
    },
    {
     "data": {
      "image/png": "[encoded data removed]",
      "text/plain": [
       "<Figure size 432x288 with 2 Axes>"
      ]
     },
     "metadata": {
      "needs_background": "light"
     },
     "output_type": "display_data"
    }
   ],
   "source": [
    "## Several experiments\n",
    "\n",
    "n_expts = 20\n",
    "rand_idxs_expts = np.random.choice([0, 1, 2, 3], size=n_expts * (2*n_qubits - 2)).reshape(n_expts, -1)\n",
    "\n",
    "twirled_noisy_expectations = np.zeros((width, width))\n",
    "\n",
    "for count_expts, rand_idxs in enumerate(rand_idxs_expts):\n",
    "    \n",
    "    print(f\"\\rWorking on experiment: {count_expts+1}\", end=\"\")\n",
    "    sys.stdout.flush()\n",
    "    \n",
    "    expectations = []\n",
    "    \n",
    "    for (gamma, beta) in tqdm(list(itertools.product(angle_range, angle_range))):\n",
    "\n",
    "        # initial state\n",
    "        p0_list = [p0]*n_qubits\n",
    "        rho = reduce(np.kron, p0_list)\n",
    "\n",
    "        # initial hadamards\n",
    "        had_op = global_hadamards()\n",
    "        rho = had_op @ rho @ had_op.conj().T\n",
    "\n",
    "        # almost global RZs\n",
    "        rz_op = almost_global_rzs(gamma)\n",
    "        rho = rz_op @ rho @ rz_op.conj().T\n",
    "\n",
    "        # almost global hadamards\n",
    "        had_op2 = almost_global_hadamards()\n",
    "        rho = had_op2 @ rho @ had_op2.conj().T\n",
    "\n",
    "        # CZ ladder\n",
    "        for idx, _ in enumerate(qubits[:-1]):\n",
    "            \n",
    "            # identify twirling operators\n",
    "            A = rand_idxs[2*idx]\n",
    "            B = rand_idxs[2*idx+1]\n",
    "            C = c(A, B)\n",
    "            D = d(A, B)\n",
    "            pauli_A = pauli_op(A, qubits[idx])\n",
    "            pauli_B = pauli_op(B, qubits[idx+1])\n",
    "            pauli_C = pauli_op(C, qubits[idx])\n",
    "            pauli_D = pauli_op(D, qubits[idx+1])\n",
    "            \n",
    "            # insert pre-twirl here\n",
    "            pre_twirl = pauli_A @ pauli_B\n",
    "            rho = pre_twirl @ rho @ pre_twirl.conj().T\n",
    "\n",
    "            # CZ operation\n",
    "            cz_op = cz(qubits[idx], qubits[idx+1])\n",
    "            rho = cz_op @ rho @ cz_op.conj().T\n",
    "            \n",
    "            # CZ noise\n",
    "            rho_mod = np.zeros((dim, dim), dtype='complex128')\n",
    "            qA = qubits[idx]\n",
    "            noise_ops = [reduce(np.kron, [idty]*(n_qubits-2-qA) + [noise_op] + [idty]*qA) for noise_op in twoq_noise]\n",
    "            for K in noise_ops:\n",
    "                rho_mod += K @ rho @ K.conj().T\n",
    "            rho = rho_mod\n",
    "            \n",
    "            # insert post-twirl here\n",
    "            post_twirl = pauli_C @ pauli_D\n",
    "            rho = post_twirl @ rho @ post_twirl.conj().T\n",
    "\n",
    "            # post-CZ Hadamard operation\n",
    "            h_op = hadamard(qubits[idx+1])\n",
    "            rho = h_op @ rho @ h_op.conj().T\n",
    "\n",
    "        # mixer term\n",
    "        mix_op = mixer_term(beta)\n",
    "        rho = mix_op @ rho @ mix_op.conj().T\n",
    "\n",
    "        # calculate expectation value of H_C\n",
    "        Zexpect = 0.0\n",
    "        for idx, _ in enumerate(qubits[:-1]):\n",
    "            zzterm = zz_term(qubits[idx], qubits[idx+1])\n",
    "            Zexpect += np.trace(zzterm @ rho)\n",
    "\n",
    "        assert np.isclose(np.imag(Zexpect), 0.0), f\"(gamma, beta): {(gamma, beta)}; Zexpect: {Zexpect}\"\n",
    "        expectations.append(np.real(Zexpect))\n",
    "\n",
    "    expectations = np.array(expectations).reshape(width, width)\n",
    "    twirled_noisy_expectations += expectations\n",
    "    \n",
    "twirled_noisy_expectations /= n_expts\n",
    "# print(np.allclose(twirled_expectations, wfn_expectations))\n",
    "plt.imshow(twirled_noisy_expectations, extent=[0.0, np.pi, np.pi, 0.0])\n",
    "plt.colorbar()\n",
    "plt.xlabel('beta')\n",
    "plt.ylabel('gamma')\n",
    "plt.title('<H_C>')\n",
    "plt.show()"
   ]
  },
  {
   "cell_type": "code",
   "execution_count": null,
   "metadata": {},
   "outputs": [],
   "source": []
  }
 ],
 "metadata": {
  "kernelspec": {
   "display_name": "Python 3",
   "language": "python",
   "name": "python3"
  },
  "language_info": {
   "codemirror_mode": {
    "name": "ipython",
    "version": 3
   },
   "file_extension": ".py",
   "mimetype": "text/x-python",
   "name": "python",
   "nbconvert_exporter": "python",
   "pygments_lexer": "ipython3",
   "version": "3.7.7"
  }
 },
 "nbformat": 4,
 "nbformat_minor": 2
}
