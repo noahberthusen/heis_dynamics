{
 "cells": [
  {
   "cell_type": "code",
   "execution_count": 1,
   "metadata": {},
   "outputs": [],
   "source": [
    "import matplotlib.pyplot as plt\n",
    "import numpy as np\n",
    "from scipy.optimize import curve_fit\n",
    "import scipy.signal"
   ]
  },
  {
   "cell_type": "code",
   "execution_count": 2,
   "metadata": {},
   "outputs": [],
   "source": [
    "def func(x, a, b, c):\n",
    "    return a * np.exp(-b * x) + c\n",
    "\n",
    "def func2(x, a, b):\n",
    "    return a * np.exp(-b * x)\n",
    "\n",
    "def func3(x, a, b, c):\n",
    "    return a + (b / 2**(x/c))\n",
    "\n",
    "def fun(x, a, b, c):\n",
    "    return a*np.exp(-b*(c**x))"
   ]
  },
  {
   "cell_type": "code",
   "execution_count": null,
   "metadata": {},
   "outputs": [],
   "source": [
    "# L=8\n",
    "y = [0.7590718540880695, 0.5719211366047965, 0.44510673104760407, 0.3241760396769466, 0.2550839283040911, 0.20338644928503405, 0.16657267588874713, 0.13303684756303158, 0.09179578796168021, 0.06102443877810375, 0.032180786182541075, 0.021368967806325422, 0.010754411919488305, 0.0043950994366458995]\n",
    "x = np.arange(len(y))\n",
    "\n",
    "popt, pcov = curve_fit(fun, x, y)\n",
    "print(popt)\n",
    "predx = np.linspace(0, len(y)+2, 10000)\n",
    "pred = fun(predx, *popt)\n",
    "\n",
    "print(f'p* prediction = {predx[np.argwhere(np.isclose(5e-3, pred, rtol=5e-3)).flatten()[0]]}')\n",
    "print(f'actual p* = 14')\n",
    "\n",
    "plt.plot(x, y, 'b-', label='data')\n",
    "plt.plot(predx, pred, 'r-')\n",
    "plt.axhline(5e-3, color='k', linestyle='--')\n",
    "plt.yscale('log')\n",
    "plt.legend()\n"
   ]
  },
  {
   "cell_type": "code",
   "execution_count": null,
   "metadata": {},
   "outputs": [],
   "source": [
    "# L=9\n",
    "y = [0.8487796466464832, 0.7246713564910872, 0.6212977022476487, 0.5601619345396789, 0.4708760688783845, 0.41385549557756507, 0.3608916901805358, 0.30257921928460585, 0.24985423332471882, 0.19539132415233107, 0.1679920211863423, 0.13669538443585097, 0.11212563368131197, 0.08873980822580929, 0.06822397613094205, 0.05092762634877268, 0.03898776643879624, 0.02921738040071047, 0.020098550656726288, 0.014498611773404769, 0.0071355138558909514, 0.0043125361783976635, 0.002548221151697283, 0.0011333996251954304, 0.0004074573587542485]\n",
    "\n",
    "x = np.arange(len(y))\n",
    "\n",
    "popt, pcov = curve_fit(fun, x, y)\n",
    "print(popt)\n",
    "predx = np.linspace(0, len(y)+10, 10000)\n",
    "pred = fun(predx, *popt)\n",
    "\n",
    "print(f'p* prediction = {predx[np.argwhere(np.isclose(5e-3, pred, rtol=5e-3)).flatten()[0]]}')\n",
    "print(f'actual p* = 14')\n",
    "\n",
    "plt.plot(x, y, 'b-', label='data')\n",
    "plt.yscale('log')\n",
    "plt.plot(predx, pred, 'r-', label='fit: a=%5.3f, b=%5.3f, c=%5.3f' % tuple(popt))\n",
    "plt.axhline(5e-3, color='k', linestyle='--')\n",
    "plt.legend()"
   ]
  },
  {
   "cell_type": "code",
   "execution_count": null,
   "metadata": {},
   "outputs": [],
   "source": [
    "# L=10\n",
    "y = [0.8743803794511876, 0.7602827036510854, 0.6283331545866673, 0.5628693380619201, 0.4921650094542621, 0.4256666141075628, 0.38455154797254093, 0.33474153611510793, 0.30555276126916875, 0.2997335321936316, 0.28403853926060596, 0.32331078335113633, 0.2605064704572483, 0.2701202553798495, 0.25988398779544275, 0.23296151808521248, 0.21691028941228307, 0.18272598198029488, 0.18016026093971216, 0.14507519284391246, 0.14432891969153894, 0.13215513174156102, 0.11645455273223815, 0.10780069121860303, 0.08184172387280209, 0.07124292315053182, 0.06695249692045613, 0.06004606181960437, 0.05447963474429951, 0.05066997157910613, 0.035307219169577686, 0.03405049668035065, 0.024741642898890692, 0.021846105971423002, 0.017336086230235193, 0.012528126860723132, 0.01008166471798333, 0.008636011985746816, 0.007922392087377883, 0.005485597676916254]\n",
    "x = np.arange(len(y))\n",
    "\n",
    "popt, pcov = curve_fit(fun, x, y)\n",
    "print(popt)\n",
    "predx = np.linspace(0, len(y), 100)\n",
    "pred = func(predx, *popt)\n",
    "\n",
    "# print(f'p* prediction = {predx[np.argwhere(np.isclose(5e-3, pred, rtol=5e-3)).flatten()[0]]}')\n",
    "print(f'actual p* = 14')\n",
    "\n",
    "plt.plot(x, y, 'b-', label='data')\n",
    "plt.yscale('log')\n",
    "plt.plot(predx, pred, 'r-', label='fit: a=%5.3f, b=%5.3f, c=%5.3f' % tuple(popt))\n",
    "plt.axhline(5e-3, color='k', linestyle='--')\n",
    "plt.legend()"
   ]
  },
  {
   "cell_type": "code",
   "execution_count": null,
   "metadata": {},
   "outputs": [],
   "source": [
    "y = [0.8610560425939218, 0.7231270541629369, 0.6285820336580716, 0.5370094711445761, 0.4586670741282329, 0.3807929396950779, 0.3174909773888193, 0.2513449067963391, 0.2195720123424823, 0.1836289000938064, 0.13420489033620941, 0.10721758114982793, 0.08139500801780553, 0.06053323515587661, 0.04577449938456679, 0.031191148885733266, 0.02140432456271879, 0.015623953576980876, 0.008632197587004065, 0.006153346788576708, 0.003555021475440623, 0.0012671810611337708, 0.00041213024535813325]\n",
    "x = np.arange(len(y))+1\n",
    "\n",
    "def fun(x, a, b, c):\n",
    "    return a*np.exp(-b*(c**x))\n",
    "\n",
    "popt, pcov = curve_fit(fun, x, y)\n",
    "print(popt)\n",
    "predx = np.linspace(0, len(y)+2, 10000)\n",
    "pred = fun(predx, *popt)\n",
    "\n",
    "print(f'p* prediction = {predx[np.argwhere(np.isclose(5e-3, pred, rtol=5e-3)).flatten()[0]]}')\n",
    "# print(f'actual p* = 14')\n",
    "\n",
    "plt.plot(x, y, 'b-', label='data')\n",
    "plt.plot(predx, pred, 'r-')\n",
    "plt.axhline(5e-3, color='k', linestyle='--')\n",
    "plt.yscale('log')\n",
    "plt.legend()"
   ]
  },
  {
   "cell_type": "code",
   "execution_count": null,
   "metadata": {},
   "outputs": [],
   "source": [
    "# L=11 zz\n",
    "y = [0.9261151779099567, 0.8511945891384742, 0.7693913421191709, 0.7073966104074536, 0.6350478379136983, 0.5722619483297715, 0.5140257240775905, 0.46788426632209407, 0.4159054651627615, 0.37253946949386274, 0.34305439845434527, 0.28397825796210435, 0.2621012760382251, 0.2292239802230862, 0.2092687281810458, 0.1758191269051449, 0.15842184067966425, 0.14045944600811022, 0.11961690247603807, 0.09650567935767884, 0.08439628643918373, 0.07616674755108555, 0.06594632341955187, 0.05024206309546597, 0.0439167088314526, 0.03608847978753271, 0.030658143234543078]\n",
    "x = np.arange(len(y))+1\n",
    "# y = scipy.signal.savgol_filter(y, 5, 1)\n",
    "\n",
    "\n",
    "print(len(y))\n",
    "popt, pcov = curve_fit(fun, x, y, p0=[10, 3, 1])\n",
    "print(popt)\n",
    "predx = np.linspace(0, len(y)+20, 10000)\n",
    "pred = fun(predx, *popt)\n",
    "\n",
    "print(f'p* prediction = {predx[np.argwhere(np.isclose(5e-3, pred, rtol=5e-3)).flatten()[0]]}')\n",
    "\n",
    "plt.plot(x, y, 'b-', label='data')\n",
    "plt.plot(predx, pred, 'r-')\n",
    "plt.axhline(5e-3, color='k', linestyle='--')\n",
    "plt.yscale('log')\n",
    "plt.legend()"
   ]
  },
  {
   "cell_type": "code",
   "execution_count": 8,
   "metadata": {},
   "outputs": [
    {
     "name": "stdout",
     "output_type": "stream",
     "text": [
      "10\n"
     ]
    },
    {
     "data": {
      "text/plain": [
       "<matplotlib.legend.Legend at 0x1f6c7cc8208>"
      ]
     },
     "execution_count": 8,
     "metadata": {},
     "output_type": "execute_result"
    },
    {
     "data": {
      "image/png": "[encoded data removed]",
      "text/plain": [
       "<Figure size 432x288 with 1 Axes>"
      ]
     },
     "metadata": {
      "needs_background": "light"
     },
     "output_type": "display_data"
    }
   ],
   "source": [
    "y = [0.9215268053214467, 0.8947150072594636, 0.756560547328556, 0.7481819851826412, 0.7020367617880663, 0.7443771570796638, 0.6951728971465105, 0.654915440307857, 0.6296107872964507, 0.5990934084181154]\r\n",
    "x = np.arange(len(y))+1\r\n",
    "y = scipy.signal.savgol_filter(y, 3, 1)\r\n",
    "\r\n",
    "\r\n",
    "print(len(y))\r\n",
    "# popt, pcov = curve_fit(fun, x, y, p0=[10, 3, 1])\r\n",
    "# print(popt)\r\n",
    "# predx = np.linspace(0, len(y)+20, 10000)\r\n",
    "# pred = fun(predx, *popt)\r\n",
    "\r\n",
    "# print(f'p* prediction = {predx[np.argwhere(np.isclose(5e-3, pred, rtol=5e-3)).flatten()[0]]}')\r\n",
    "\r\n",
    "plt.plot(x, y, 'b-', label='data')\r\n",
    "# plt.plot(predx, pred, 'r-')\r\n",
    "plt.axhline(5e-3, color='k', linestyle='--')\r\n",
    "plt.yscale('log')\r\n",
    "plt.legend()"
   ]
  },
  {
   "cell_type": "code",
   "execution_count": 4,
   "metadata": {},
   "outputs": [
    {
     "name": "stdout",
     "output_type": "stream",
     "text": [
      "35\n",
      "[24.11011663  3.27541194  1.01263423]\n",
      "p* prediction = 75.73407340734073\n"
     ]
    },
    {
     "data": {
      "text/plain": [
       "<matplotlib.legend.Legend at 0x1f6c7785608>"
      ]
     },
     "execution_count": 4,
     "metadata": {},
     "output_type": "execute_result"
    },
    {
     "data": {
      "image/png": "[encoded data removed]",
      "text/plain": [
       "<Figure size 432x288 with 1 Axes>"
      ]
     },
     "metadata": {
      "needs_background": "light"
     },
     "output_type": "display_data"
    }
   ],
   "source": [
    "%matplotlib inline\r\n",
    "\r\n",
    "y = [0.9523546025921042, 0.8555128016751308, 0.8063569452557587, 0.7261054889051939, 0.6978882496845253, 0.6834919785982947, 0.635797680284956, 0.6205954241998789, 0.5384254387354159, 0.5559438904383859, 0.5042318357190083, 0.5814076997947872, 0.5221411476862388, 0.4976713854300342, 0.4738036553177448, 0.4653931197929507, 0.4400977965809585, 0.4126562522758186, 0.3858833451864703, 0.34984039120869226, 0.33230623366677026, 0.33588471044822343, 0.3173069764439742, 0.2868568800355503, 0.27678989224888395, 0.24121697004244091, 0.2404776355519881, 0.2131823868564816, 0.21537698018374085, 0.1897678008110455, 0.18869844767280397, 0.1739360202170127, 0.16411085510701295, 0.15064124732492412, 0.14139546400083824]\r\n",
    "x = np.arange(len(y))+1\r\n",
    "yhat = scipy.signal.savgol_filter(y, 11, 1)\r\n",
    "\r\n",
    "print(len(y))\r\n",
    "popt, pcov = curve_fit(fun, x, yhat, maxfev=3000)\r\n",
    "print(popt)\r\n",
    "predx = np.linspace(0, len(y)+50, 10000)\r\n",
    "pred = fun(predx, *popt)\r\n",
    "\r\n",
    "print(f'p* prediction = {predx[np.argwhere(np.isclose(5e-3, pred, rtol=5e-3)).flatten()[0]]}')\r\n",
    "\r\n",
    "plt.plot(x, y, 'b-', label='data')\r\n",
    "plt.plot(predx, pred, 'r-')\r\n",
    "plt.axhline(5e-3, color='k', linestyle='--')\r\n",
    "plt.yscale('log')\r\n",
    "plt.legend()"
   ]
  },
  {
   "cell_type": "code",
   "execution_count": null,
   "metadata": {},
   "outputs": [],
   "source": []
  }
 ],
 "metadata": {
  "interpreter": {
   "hash": "36076d0e02b8d1858d0bd5b32bffaa710811761ccb670f476492e9c2dea26ac0"
  },
  "kernelspec": {
   "display_name": "Python 3.7.10 64-bit ('qc': conda)",
   "name": "python3"
  },
  "language_info": {
   "codemirror_mode": {
    "name": "ipython",
    "version": 3
   },
   "file_extension": ".py",
   "mimetype": "text/x-python",
   "name": "python",
   "nbconvert_exporter": "python",
   "pygments_lexer": "ipython3",
   "version": "3.7.10"
  }
 },
 "nbformat": 4,
 "nbformat_minor": 4
}