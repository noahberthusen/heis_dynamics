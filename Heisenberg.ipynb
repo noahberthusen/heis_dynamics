{
 "cells": [
  {
   "cell_type": "code",
   "execution_count": null,
   "metadata": {},
   "outputs": [],
   "source": [
    "import numpy as np\n",
    "import pandas as pd\n",
    "import scipy as sp\n",
    "from scipy.sparse import csc_matrix, diags\n",
    "from scipy.sparse.linalg import eigs, expm_multiply\n",
    "from numpy import linalg as LA\n",
    "from scipy.linalg import expm\n",
    "import matplotlib.pyplot as plt\n",
    "import matplotlib\n",
    "import matplotlib.ticker as ticker\n",
    "from scipy.optimize import minimize\n",
    "import time"
   ]
  },
  {
   "cell_type": "code",
   "execution_count": null,
   "metadata": {},
   "outputs": [],
   "source": [
    "def FlipFlop(n, i, j):\n",
    "    v = list(format(n, '0{}b'.format(L)))\n",
    "    if (v[i] != '0' and v[j] != '1'):\n",
    "        v[i] = '0'\n",
    "        v[j] = '1'\n",
    "        return int(''.join(v), 2)\n",
    "    else:\n",
    "        return -1\n",
    "        \n",
    "def Raise(n, i):\n",
    "    v = list(format(n, '0{}b'.format(L)))\n",
    "    # checking mod here, unsure why since accesses aren't modded\n",
    "    if (v[i] != '1'):\n",
    "        v[i] = '1'\n",
    "        return int(''.join(v), 2)\n",
    "    else:\n",
    "        return -1"
   ]
  },
  {
   "cell_type": "code",
   "execution_count": null,
   "metadata": {},
   "outputs": [],
   "source": [
    "L = 3\n",
    "Sz = []\n",
    "for i in range(L):\n",
    "    sprs = csc_matrix((2**L, 2**L), dtype=np.int8)\n",
    "    for j in range(2**L):\n",
    "        sprs[j, j] = 1-2*int(format(j, '0{}b'.format(L))[i])\n",
    "    Sz.append(sprs)\n",
    "SzTot = sum(Sz)\n",
    "\n",
    "Sp = []\n",
    "for i in range(L):\n",
    "    sprs = csc_matrix((2**L, 2**L), dtype=np.int8)\n",
    "    for j in range(2**L):\n",
    "        h = Raise(j, i)\n",
    "        if (h != -1):\n",
    "            sprs[h, j] = 1\n",
    "    Sp.append(sprs)\n",
    "\n",
    "Heis = []\n",
    "for i in range(L):\n",
    "    _ = []\n",
    "    for k in range(L):\n",
    "        sprs = csc_matrix((2**L, 2**L), dtype=np.int8)\n",
    "        for j in range(2**L):\n",
    "            h = FlipFlop(j, i, k)\n",
    "            v = lambda i: 1-2*int(format(j, '0{}b'.format(L))[i])\n",
    "            if (h != -1):\n",
    "                sprs[j, h] = 2\n",
    "                sprs[h, j] = 2\n",
    "            sprs[j, j] = v(i) * v(k)\n",
    "        _.append(sprs)    \n",
    "    Heis.append(_)\n",
    "\n",
    "Sm = [Sp[i].T for i in range(L)]\n",
    "Sx = [Sp[i]+Sm[i] for i in range(L)]\n",
    "Sy = [-1j*Sz[i] @ Sx[i] for i in range(L)]\n",
    "SxTot = sum(Sx)\n",
    "SyTot = sum(Sy)"
   ]
  },
  {
   "cell_type": "markdown",
   "metadata": {},
   "source": [
    "# Exact time evolution"
   ]
  },
  {
   "cell_type": "code",
   "execution_count": null,
   "metadata": {},
   "outputs": [],
   "source": [
    "H = sum([Heis[i][(i+1)%L] for i in range(L-1)]) / 4\n",
    "# H = (sum([Heis[i][(i+1)%L] for i in range(L)]) + sum([diags(Heis[i][(i+2)%L].diagonal()) for i in range(L)])) / 4 # H plus Z_i Z_{i+2}\n",
    "# Hzzz = (sum([Heis[i][(i+1)%L] for i in range(L)]) + sum([diags(Heis[i][(i+2)%L].diagonal()) for i in range(L)]) + sum([diags(Heis[i][(i+3)%L].diagonal()) for i in range(L)])) / 4\n",
    "# e, v = eigs(H, 30)\n",
    "\n",
    "# ind = e.argsort()\n",
    "# e = e[idx]\n",
    "# v = v[:, idx]\n",
    "# np.conj(v.T) @ H @ v - np.diag(e), decimals=3)"
   ]
  },
  {
   "cell_type": "code",
   "execution_count": null,
   "metadata": {},
   "outputs": [],
   "source": [
    "H.toarray()"
   ]
  },
  {
   "cell_type": "code",
   "execution_count": null,
   "metadata": {},
   "outputs": [],
   "source": [
    "tf = 50\n",
    "dt = tf / 200\n",
    "Nt = int(tf / dt)\n",
    "c = ['1','1','0'] #[str((1 + (-1)**(i+1)) // 2) for i in range(L)]\n",
    "UnitVector = lambda c: np.eye(2**L)[c]\n",
    "init = UnitVector(int(''.join(c), 2))"
   ]
  },
  {
   "cell_type": "code",
   "execution_count": null,
   "metadata": {},
   "outputs": [],
   "source": [
    "revos = [np.zeros(2**L) for i in range(Nt+1)]\n",
    "revos[0] = init\n",
    "for i in range(Nt):\n",
    "    # scipy.sparse.linalg.expm_multiply\n",
    "    revos[i+1] = expm(-1j * H * dt) @ revos[i]"
   ]
  },
  {
   "cell_type": "code",
   "execution_count": null,
   "metadata": {},
   "outputs": [],
   "source": [
    "Szt = []\n",
    "\n",
    "def expectation(op, vec):\n",
    "    return np.conj(vec) @ op @ vec / 2\n",
    "\n",
    "for i in range(len(revos)):\n",
    "    Szt.append(np.conj(revos[i]) @ (Sz[0]) @ revos[i] / 2)"
   ]
  },
  {
   "cell_type": "code",
   "execution_count": null,
   "metadata": {},
   "outputs": [],
   "source": [
    "plt.plot([i*dt for i in range(len(revos))], Szt)\n",
    "plt.axhline(y=0, color='k')"
   ]
  },
  {
   "cell_type": "markdown",
   "metadata": {},
   "source": [
    "# Trotter Evolution"
   ]
  },
  {
   "cell_type": "code",
   "execution_count": null,
   "metadata": {},
   "outputs": [],
   "source": [
    "def TrotterEvolve(tf, nt, init):\n",
    "    dt = tf / nt\n",
    "    if (L % 2 == 0):\n",
    "        UOdd = expm(-1j * dt * sum([Heis[i][(i+1)%L] for i in range(0, L-1, 2)]) / 4) # 0 indexing, this is actually even indices\n",
    "        UEven = expm(-1j * dt * sum([Heis[i][(i+1)%L] for i in range(1, L-1, 2)]) / 4) # L for periodic bdy. 0 indexing, this is actually the odd indices\n",
    "        UTrotter = UOdd @ UEven\n",
    "        # UZ = expm(-1j * dt * sum([diags(Heis[i][(i+2)%L].diagonal()) for i in range(L)]) / 2)\n",
    "        # UTrotter = UEven @ UOdd @ UZ\n",
    "    else:\n",
    "        UOdd = expm(-1j * dt * sum([Heis[i][(i+1)%L] for i in range(0, L-1, 2)]) / 4)\n",
    "        UEven = expm(-1j * dt * sum([Heis[i][(i+1)%L] for i in range(1, L, 2)]) / 4)\n",
    "        # UBdy = expm(-1j * dt * Heis[L-1][0] / 4)\n",
    "        UTrotter = UOdd @ UEven\n",
    "        # UZ = expm(-1j * dt * sum([diags(Heis[i][(i+2)%L].diagonal()) for i in range(L)]) / 2)\n",
    "        # UTrotter = UEven @ UOdd @ UBdy @ UZ\n",
    "    psi_trot = init\n",
    "    for i in range(nt):\n",
    "        psi_trot = UTrotter @ psi_trot\n",
    "    return psi_trot\n",
    "\n",
    "vec = TrotterEvolve(np.pi/3,1,init)\n",
    "print(expectation(Sz[0], vec))\n",
    "vec\n",
    "# np.around(vec, decimals=2)"
   ]
  },
  {
   "cell_type": "code",
   "execution_count": null,
   "metadata": {},
   "outputs": [],
   "source": [
    "vec1 = np.array([ 0.00000000e+00+0.00000000e+00j, -3.75000000e-01+4.33012702e-01j,\n",
    "       -3.75000000e-01-6.49519053e-01j,  0.00000000e+00+0.00000000e+00j,\n",
    "       -2.50000000e-01+2.16506351e-01j,  0.00000000e+00+0.00000000e+00j,\n",
    "        0.00000000e+00+0.00000000e+00j, -2.31977337e-17-3.19676110e-18j])\n",
    "print(expectation(Sz[0], vec1))\n",
    "print(abs(np.conj(vec) @ vec1)**2)"
   ]
  },
  {
   "cell_type": "code",
   "execution_count": null,
   "metadata": {},
   "outputs": [],
   "source": [
    "TrotterFixStepList = [init]\n",
    "for i in range(Nt):\n",
    "    TrotterFixStepList.append(TrotterEvolve((i+1)*dt, 1, init))\n",
    "TrotterFixStepSz = []\n",
    "for i in range(len(TrotterFixStepList)):\n",
    "    TrotterFixStepSz.append(np.conj(TrotterFixStepList[i]) @ Sz[0] @ TrotterFixStepList[i] / 2)"
   ]
  },
  {
   "cell_type": "markdown",
   "metadata": {},
   "source": [
    "# Ansatz"
   ]
  },
  {
   "cell_type": "code",
   "execution_count": null,
   "metadata": {},
   "outputs": [],
   "source": [
    "p = 1\n",
    "def Ansatz(params):\n",
    "    # check for correct length of params\n",
    "    psi_ansz = init\n",
    "    for i in range(p): # len(params) // L\n",
    "        if (L % 2 == 0):\n",
    "            for j in range(1, L-1, 2): # L for periodic bdy\n",
    "                psi_ansz = expm_multiply(-1j * params[(L*i)+j] * Heis[j][(j+1)%L]/4, psi_ansz)\n",
    "            for j in range(0, L-1, 2):\n",
    "                psi_ansz = expm_multiply(-1j * params[(L*i)+j] * Heis[j][(j+1)%L]/4, psi_ansz)\n",
    "        else:\n",
    "            for j in range(1, L, 2):\n",
    "                psi_ansz = expm_multiply(-1j * params[(L*i)+j] * Heis[j][(j+1)%L]/4, psi_ansz)\n",
    "            for j in range(0, L-1, 2):\n",
    "                psi_ansz = expm_multiply(-1j * params[(L*i)+j] * Heis[j][(j+1)%L]/4, psi_ansz)\n",
    "            # psi_ansz = expm_multiply(-1j * params[(L*i)+L-1] * Heis[L-1][0]/4, psi_ansz)\n",
    "        \n",
    "        \n",
    "        # for j in range(L):\n",
    "        #     psi_ansz = expm(-1j * params[(2*L*i)+L+j] * diags(Heis[j][(j+2)%L].diagonal()).tocsc()) @ psi_ansz\n",
    "    return psi_ansz\n",
    "\n",
    "def Loss(x, target, O):\n",
    "    psi_ansz = Ansatz(x)\n",
    "    Sz_ansz = np.conj(psi_ansz) @ (O) @ psi_ansz / 2\n",
    "    Sz_ex = np.conj(target) @ (O) @ target / 2\n",
    "    return abs(Sz_ansz - Sz_ex)\n",
    "\n",
    "def Fidelity(x, target):\n",
    "    psi_ansz = Ansatz(x)\n",
    "    return 1 - abs(np.conj(target) @ psi_ansz)**2"
   ]
  },
  {
   "cell_type": "code",
   "execution_count": null,
   "metadata": {},
   "outputs": [],
   "source": [
    "init_params = np.random.uniform(0, 2*np.pi, (L-1)*p)\n",
    "sol = minimize(fun=Fidelity, x0=init_params, args=(revos[-1]))\n",
    "sol"
   ]
  },
  {
   "cell_type": "code",
   "execution_count": 3,
   "metadata": {},
   "outputs": [
    {
     "data": {
      "image/png": "[encoded data removed]",
      "text/plain": [
       "<Figure size 360x216 with 4 Axes>"
      ]
     },
     "metadata": {
      "needs_background": "light"
     },
     "output_type": "display_data"
    }
   ],
   "source": [
    "%matplotlib inline\r\n",
    "\r\n",
    "Ls = [[1.7996267587250258e-10, 5.878299180750446e-11, 4.295401812015598e-11],\r\n",
    "     [0.0011696504177758317, 0.0001847764634799076, 7.770443912269443e-07, 8.577016519240032e-10],\r\n",
    "     [0.4639926762403798, 0.11391314946947262, 0.0052318151198888965, 7.07515616982235e-09, 4.817845151716682e-09],   \r\n",
    "     [0.6363176386045497, 0.3392298484219568, 0.17048011852949127, 0.052668122694601784, 0.00967727126882913, 6.0256055398317797e-05, 3.719534741541963e-08],\r\n",
    "     [0.6416560976244899, 0.5086738165494462, 0.36342221837249766, 0.21626469635978224, 0.12237679637738229, 0.045167593212329396, 0.019818305324384538, 0.004553513550590642, 0.0002063399825817802, 2.2342880081627215e-07],\r\n",
    "     [0.7590718540880695, 0.5719211366047965, 0.44510673104760407, 0.3241760396769466, 0.2550839283040911, 0.20338644928503405, 0.16657267588874713, 0.13303684756303158, 0.09179578796168021, 0.06102443877810375, 0.032180786182541075, 0.021368967806325422, 0.010754411919488305, 0.0043950994366458995, 0.0012846150810468914, 0.00020951238811922623, 1.1106172605279685e-05],\r\n",
    "     [0.8487796466464832, 0.7246713564910872, 0.6212977022476487, 0.5601619345396789, 0.4708760688783845, 0.41385549557756507, 0.3608916901805358, 0.30257921928460585, 0.24985423332471882, 0.19539132415233107, 0.1679920211863423, 0.13669538443585097, 0.11212563368131197, 0.08873980822580929, 0.06822397613094205, 0.05092762634877268, 0.03898776643879624, 0.02921738040071047, 0.020098550656726288, 0.014498611773404769, 0.0071355138558909514, 0.0043125361783976635, 0.002548221151697283, 0.0011333996251954304, 0.0004074573587542485],\r\n",
    "    [0.8743803794511876, 0.7602827036510854, 0.6283331545866673, 0.5628693380619201, 0.4921650094542621, 0.4256666141075628, 0.38455154797254093, 0.33474153611510793, 0.30555276126916875, 0.2997335321936316, 0.28403853926060596, 0.32331078335113633, 0.2605064704572483, 0.2701202553798495, 0.25988398779544275, 0.23296151808521248, 0.21691028941228307, 0.18272598198029488, 0.18016026093971216, 0.14507519284391246, 0.14432891969153894, 0.13215513174156102, 0.11645455273223815, 0.10780069121860303, 0.08184172387280209, 0.07124292315053182, 0.06695249692045613, 0.06004606181960437, 0.05447963474429951, 0.05066997157910613, 0.035307219169577686, 0.03405049668035065, 0.024741642898890692, 0.021846105971423002, 0.017336086230235193, 0.012528126860723132, 0.01008166471798333, 0.008636011985746816, 0.007922392087377883, 0.005485597676916254]\r\n",
    " ]\r\n",
    "\r\n",
    "fig, ax = plt.subplots(1, 1, figsize=(5,3))\r\n",
    "\r\n",
    "color = matplotlib.cm.viridis\r\n",
    "c = np.arange(3, 3 + len(Ls))\r\n",
    "norm = matplotlib.colors.Normalize(vmin=c.min(), vmax=c.max())\r\n",
    "cmap = matplotlib.cm.ScalarMappable(norm=norm, cmap=color)\r\n",
    "cmap.set_array([])\r\n",
    "\r\n",
    "ax.set_prop_cycle('color', [color(i) for i in np.linspace(0, 1, len(Ls))])\r\n",
    "\r\n",
    "\r\n",
    "for i in range(len(Ls)):\r\n",
    "    ax.plot(np.array([j for j in range(1, len(Ls[i])+1)]), Ls[i])\r\n",
    "\r\n",
    "ax_top = ax.twiny()\r\n",
    "ax_top.set_prop_cycle('color', [color(i) for i in np.linspace(0, 1, len(Ls))])\r\n",
    "\r\n",
    "# for i in range(len(Ls)):\r\n",
    "ax_top.plot(np.array([j*(i+3) for j in range(0, len(Ls[-1]))]), Ls[-1], alpha=0)\r\n",
    "ax_top.set_xlabel('Parameters')\r\n",
    "ax_top.set_xscale('log')\r\n",
    "\r\n",
    "ax.xaxis.set_major_locator(ticker.MaxNLocator(integer=True))\r\n",
    "\r\n",
    "cbar = plt.colorbar(cmap, ticks=c)\r\n",
    "cbar.set_label('System size ($L$)')\r\n",
    "cbar.ax.get_yaxis().labelpad = 10\r\n",
    "\r\n",
    "plt.axhline(5e-3, color='k', linestyle='--')\r\n",
    "ax.set_ylabel('$1-F$')\r\n",
    "# plt.title('$H = \\sum_{\\langle i, j \\\\rangle} \\ \\overrightarrow{S}_i \\ \\overrightarrow{S}_j$')\r\n",
    "# plt.ylabel('$1 - | \\langle \\psi (t) | \\Phi_p(\\\\vartheta) \\\\rangle |$')\r\n",
    "# ax.set_xlabel('$p$')\r\n",
    "plt.yscale('log')\r\n",
    "ax.grid(True, alpha=0.5)\r\n",
    "\r\n",
    "Lstar = np.array([1, 1, 3, 6, 8, 14, 22, 41])\r\n",
    "L = np.array([3, 4, 5, 6, 7, 8, 9, 10])\r\n",
    "Lpred = [11]\r\n",
    "Lstarpred = [76]\r\n",
    "ax2 = plt.axes([0.54, 0.22, 0.18, 0.3])\r\n",
    "ax2.patch.set_alpha(0.7)\r\n",
    "ax2.tick_params(axis='x', labelsize=6)\r\n",
    "ax2.tick_params(axis='y', labelsize=6)\r\n",
    "ax2.scatter(L, Lstar, s=3, c='k')\r\n",
    "ax2.scatter(Lpred, Lstarpred, s=3, c='r')\r\n",
    "ax2.set_yscale('log')\r\n",
    "\r\n",
    "\r\n",
    "ax.set_xscale('log')\r\n",
    "# plt.savefig('figures/p_vs_fidelity', dpi=300, transparent=False, bbox_inches='tight')\r\n"
   ]
  },
  {
   "cell_type": "code",
   "execution_count": null,
   "metadata": {},
   "outputs": [],
   "source": [
    "Ls = [[5.588469909056926e-10, 2.0827159996628098e-10],\n",
    "     [0.001168806471793331, 6.137607163125836e-07, 2.9467021409601557e-08],\n",
    "     [0.221483226411549, 3.516649276943173e-05, 3.5626192662618907e-09, 2.3491798506469763e-09],\n",
    "     [0.5235831350848252, 0.1083608801605783, 0.005335858738842259, 1.6297208194071544e-08, 7.191482065405097e-09],\n",
    "     [0.6040549826328518, 0.23093713565766655, 0.05580251843277639, 0.006179206353788902, 1.9743014617601418e-06, 6.762318172093273e-08],\n",
    "     [0.6176635173647363, 0.4390706383021266, 0.2408873676967919, 0.14031169478591124, 0.05890306619134159, 0.02307252601390696, 0.005092728379774802, 0.0004371954153208346, 2.697683505470394e-07],\n",
    "     [0.785334008250023, 0.613777408810309, 0.4576167020008981, 0.3288543148417202, 0.22143088145446158, 0.14860190229834255, 0.08759629838864513, 0.05802319045287724, 0.031662276466621564, 0.01587701353584159, 0.007213445838580079, 0.0024537179100346806, 0.0002624472754672036, 7.774376831970464e-06],\n",
    "     [0.8610560425939218, 0.7231270541629369, 0.6285820336580716, 0.5370094711445761, 0.4586670741282329, 0.3807929396950779, 0.3174909773888193, 0.2513449067963391, 0.2195720123424823, 0.1836289000938064, 0.13420489033620941, 0.10721758114982793, 0.08139500801780553, 0.06053323515587661, 0.04577449938456679, 0.031191148885733266, 0.02140432456271879, 0.015623953576980876, 0.008632197587004065, 0.006153346788576708, 0.003555021475440623, 0.0012671810611337708, 0.00041213024535813325]]\n",
    "\n",
    "fig, ax = plt.subplots(1, 1, figsize=(5,3))\n",
    "\n",
    "color = matplotlib.cm.viridis\n",
    "c = np.arange(3, 3 + len(Ls))\n",
    "norm = matplotlib.colors.Normalize(vmin=c.min(), vmax=c.max())\n",
    "cmap = matplotlib.cm.ScalarMappable(norm=norm, cmap=color)\n",
    "cmap.set_array([])\n",
    "\n",
    "ax.set_prop_cycle('color',[color(i) for i in np.linspace(0, 1, len(Ls))])\n",
    "\n",
    "for i in range(len(Ls)):\n",
    "    ax.plot(np.array([j for j in range(1, len(Ls[i])+1)]), Ls[i])\n",
    "ax.xaxis.set_major_locator(ticker.MaxNLocator(integer=True))\n",
    "\n",
    "ax_top = ax.twiny()\n",
    "ax_top.set_prop_cycle('color',[color(i) for i in np.linspace(0, 1, len(Ls))])\n",
    "\n",
    "ax_top.plot(np.array([2*j*(i+3) for j in range(1, len(Ls[-1])+1)]), Ls[-1], alpha=0)\n",
    "# ax_top.set_xlabel('Parameters')\n",
    "ax_top.set_xscale('log')\n",
    "\n",
    "cbar = plt.colorbar(cmap, ticks=c)\n",
    "cbar.set_label('System size ($L$)')\n",
    "cbar.ax.get_yaxis().labelpad = 10\n",
    "\n",
    "plt.axhline(5e-3, color='k', linestyle='--')\n",
    "ax.set_ylabel('$1-F$')\n",
    "ax.set_xlabel('$p$')\n",
    "ax.grid(True, alpha=0.5)\n",
    "\n",
    "LHz = np.array([3, 4, 5, 6, 7, 8, 9, 10])\n",
    "LstarHz = np.array([1, 1, 2, 4, 5, 8, 12, 21])\n",
    "LHzpred = [11]\n",
    "LstarHzpred = [36]\n",
    "ax2 = plt.axes([0.54, 0.22, 0.18, 0.3])\n",
    "ax2.patch.set_alpha(0.7)\n",
    "ax2.tick_params(axis='x', labelsize=6)\n",
    "ax2.tick_params(axis='y', labelsize=6)\n",
    "ax2.scatter(LHz, LstarHz, s=3, c='k')\n",
    "# ax2.set_xlabel('$L$', fontsize=8)\n",
    "# ax2.set_ylabel('$p^*$', fontsize=8)\n",
    "ax2.scatter(LHzpred, LstarHzpred, s=3, c='r')\n",
    "ax2.set_yscale('log')\n",
    "\n",
    "\n",
    "# plt.legend(loc='lower right')\n",
    "ax.set_yscale('log')\n",
    "ax.set_xscale('log')\n",
    "# plt.xlim([0,11])\n",
    "# plt.savefig('figures/p_vs_fidelityHz.svg', dpi=300, transparent=False, bbox_inches='tight')\n"
   ]
  },
  {
   "cell_type": "code",
   "execution_count": null,
   "metadata": {},
   "outputs": [],
   "source": [
    "\n",
    "LstarH = np.array([1, 1, 3, 4, 8, 12, 23, 34, 59])\n",
    "L = np.array([3, 4, 5, 6, 7, 8, 9, 10, 11])\n",
    "LstarHparams = np.multiply(LstarH, L)\n",
    "LHz = np.array([3, 4, 5, 6, 7, 8, 9, 10])\n",
    "LstarHz = np.array([1, 1, 2, 4, 5, 8, 12, 21])\n",
    "LstarHzparams = np.multiply(LstarHz*2, LHz)\n",
    "fig, ax = plt.subplots(1, 2, figsize=(7, 3.5))\n",
    "ax[0].set(ylabel='$p*$', xlabel='$L$')\n",
    "# ax[0].title('L vs p* for Heisenberg models')\n",
    "ax[0].loglog(L, LstarH, label='$H = J\\sum_{\\langle i, j \\\\rangle} \\ \\overrightarrow{S}_i \\ \\overrightarrow{S}_j$')\n",
    "ax[0].loglog(LHz, LstarHz, label='$H = J\\sum_{\\langle i, j \\\\rangle} \\ \\overrightarrow{S}_i \\ \\overrightarrow{S}_j + \\\\frac{J}{4}\\sum_i Z_i Z_{i+2}$')\n",
    "ax[1].loglog(L, LstarHparams)\n",
    "ax[1].loglog(LHz, LstarHzparams)\n",
    "ax[1].set(ylabel='$p*$ (# of params)', xlabel='$L$')\n",
    "\n",
    "ax[0].legend(loc='upper left')\n",
    "fig.tight_layout()\n",
    "\n",
    "# plt.savefig('figures/L_vs_pstar', dpi=300, transparent=False, bbox_inches='tight')\n"
   ]
  },
  {
   "cell_type": "code",
   "execution_count": null,
   "metadata": {},
   "outputs": [],
   "source": []
  }
 ],
 "metadata": {
  "interpreter": {
   "hash": "56fd2b3a3132fae182fa2d418ad016356da4097c88730d6c3de651780934b654"
  },
  "kernelspec": {
   "display_name": "Python 3.8.5 64-bit ('base': conda)",
   "name": "python3"
  },
  "language_info": {
   "name": "python",
   "version": ""
  },
  "orig_nbformat": 2
 },
 "nbformat": 4,
 "nbformat_minor": 2
}